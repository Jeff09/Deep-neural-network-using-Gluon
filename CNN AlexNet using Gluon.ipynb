{
 "cells": [
  {
   "cell_type": "code",
   "execution_count": 23,
   "metadata": {
    "ExecuteTime": {
     "end_time": "2017-10-15T19:34:02.199071Z",
     "start_time": "2017-10-15T19:34:02.155434Z"
    }
   },
   "outputs": [],
   "source": [
    "from mxnet.gluon import nn\n",
    "\n",
    "#Alexnet\n",
    "net = nn.Sequential()\n",
    "with net.name_scope():\n",
    "        # 第一阶段\n",
    "    #net.add(nn.Conv2D(channels=96, kernel_size=11, strides=4, activation='relu'))\n",
    "    net.add(nn.Conv2D(channels=96, kernel_size=11, strides=4))\n",
    "    net.add(nn.BatchNorm(axis=1))\n",
    "    net.add(nn.Activation(activation='relu'))\n",
    "    net.add(nn.MaxPool2D(pool_size=3, strides=2))\n",
    "        # 第二阶段\n",
    "    #net.add(nn.Conv2D(channels=256, kernel_size=5, padding=2, activation='relu'))\n",
    "    net.add(nn.Conv2D(channels=256, kernel_size=5, padding=2,))\n",
    "    net.add(nn.BatchNorm(axis=1))\n",
    "    net.add(nn.Activation(activation='relu'))\n",
    "    net.add(nn.MaxPool2D(pool_size=3, strides=2))\n",
    "        # 第三阶段\n",
    "    net.add(nn.Conv2D(channels=384, kernel_size=3, padding=1, activation='relu'))\n",
    "    net.add(nn.Conv2D(channels=384, kernel_size=3, padding=1, activation='relu'))\n",
    "    net.add(nn.Conv2D(channels=256, kernel_size=3, padding=1, activation='relu'))\n",
    "    net.add(nn.MaxPool2D(pool_size=3, strides=2))\n",
    "        # 第四阶段\n",
    "    net.add(nn.Flatten())\n",
    "    net.add(nn.Dense(4096, activation=\"relu\"))\n",
    "    net.add(nn.Dropout(.5))\n",
    "        # 第五阶段\n",
    "    net.add(nn.Dense(4096, activation=\"relu\"))\n",
    "    net.add(nn.Dropout(.5))\n",
    "        # 第六阶段\n",
    "    net.add(nn.Dense(10))"
   ]
  },
  {
   "cell_type": "code",
   "execution_count": 24,
   "metadata": {
    "ExecuteTime": {
     "end_time": "2017-10-15T19:34:04.752501Z",
     "start_time": "2017-10-15T19:34:04.299223Z"
    },
    "collapsed": true
   },
   "outputs": [],
   "source": [
    "import sys\n",
    "sys.path.append('..')\n",
    "import utils\n",
    "\n",
    "#Alexnet使用Imagenet数据，其中输入图片大小一般是224×224\n",
    "train_data, test_data = utils.load_data_fashion_mnist(\n",
    "    batch_size=64, resize=224)"
   ]
  },
  {
   "cell_type": "raw",
   "metadata": {},
   "source": [
    "相对于前面的LeNet，我们做了如下三个改动：\n",
    "\n",
    "我们使用Xavier来初始化参数\n",
    "使用了更小的学习率\n",
    "默认只迭代一轮（这样网页编译快一点）"
   ]
  },
  {
   "cell_type": "code",
   "execution_count": 22,
   "metadata": {
    "ExecuteTime": {
     "end_time": "2017-10-15T19:33:58.344656Z",
     "start_time": "2017-10-15T19:33:58.331091Z"
    }
   },
   "outputs": [],
   "source": [
    "from mxnet import ndarray as nd\n",
    "class MyInit(init.Initializer):\n",
    "    def __init__(self):\n",
    "        super(MyInit, self).__init__()\n",
    "        self._verbose = True\n",
    "    def _init_weight(self, _, arr):\n",
    "        # 初始化权重，使用out=arr后我们不需指定形状\n",
    "        print('init weight', arr.shape)\n",
    "        nd.random_normal(loc=0, scale=1, out=arr)\n",
    "    def _init_bias(self, _, arr):\n",
    "        print('init bias', arr.shape)\n",
    "        # 初始化偏移\n",
    "        arr[:] = 2\n",
    "net.initialize(ctx=ctx, init=MyInit())\n"
   ]
  },
  {
   "cell_type": "code",
   "execution_count": 25,
   "metadata": {
    "ExecuteTime": {
     "end_time": "2017-10-15T19:41:15.249294Z",
     "start_time": "2017-10-15T19:34:06.900111Z"
    }
   },
   "outputs": [
    {
     "name": "stdout",
     "output_type": "stream",
     "text": [
      "Epoch 0. Loss: 765041841073876090507856183296.000000, Train acc 0.098914, Test acc 0.100119\n",
      "Epoch 1. Loss: 2.302649, Train acc 0.096948, Test acc 0.100119\n",
      "Epoch 2. Loss: 2.302646, Train acc 0.097248, Test acc 0.099821\n",
      "Epoch 3. Loss: 2.302646, Train acc 0.098647, Test acc 0.100119\n",
      "Epoch 4. Loss: 2.302648, Train acc 0.095432, Test acc 0.100717\n"
     ]
    }
   ],
   "source": [
    "from mxnet import init\n",
    "from mxnet import gluon\n",
    "\n",
    "ctx = utils.try_gpu()\n",
    "#myinit = init.Normal() #\n",
    "#net.initialize(ctx=ctx, init=init.Xavier())\n",
    "net.initialize(ctx=ctx)\n",
    "loss = gluon.loss.SoftmaxCrossEntropyLoss()\n",
    "trainer = gluon.Trainer(net.collect_params(),\n",
    "                        'sgd', {'learning_rate': 0.01})\n",
    "utils.train(train_data, test_data, net, loss,\n",
    "            trainer, ctx, num_epochs=5)"
   ]
  },
  {
   "cell_type": "code",
   "execution_count": null,
   "metadata": {
    "collapsed": true
   },
   "outputs": [],
   "source": []
  }
 ],
 "metadata": {
  "kernelspec": {
   "display_name": "Python 3",
   "language": "python",
   "name": "python3"
  },
  "language_info": {
   "codemirror_mode": {
    "name": "ipython",
    "version": 3
   },
   "file_extension": ".py",
   "mimetype": "text/x-python",
   "name": "python",
   "nbconvert_exporter": "python",
   "pygments_lexer": "ipython3",
   "version": "3.6.2"
  }
 },
 "nbformat": 4,
 "nbformat_minor": 2
}
