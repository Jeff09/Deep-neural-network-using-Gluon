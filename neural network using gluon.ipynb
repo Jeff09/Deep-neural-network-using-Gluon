{
 "cells": [
  {
   "cell_type": "code",
   "execution_count": 12,
   "metadata": {
    "ExecuteTime": {
     "end_time": "2017-10-14T18:28:17.079602Z",
     "start_time": "2017-10-14T18:28:17.070579Z"
    },
    "collapsed": true
   },
   "outputs": [],
   "source": [
    "from mxnet import gluon\n",
    "\n",
    "net = gluon.nn.Sequential()\n",
    "with net.name_scope():\n",
    "    net.add(gluon.nn.Flatten())\n",
    "    net.add(gluon.nn.Dense(256, activation=\"softrelu\"))\n",
    "    net.add(gluon.nn.Dense(256, activation=\"softrelu\"))\n",
    "    net.add(gluon.nn.Dense(10))\n",
    "net.initialize()"
   ]
  },
  {
   "cell_type": "code",
   "execution_count": 13,
   "metadata": {
    "ExecuteTime": {
     "end_time": "2017-10-14T18:29:57.360443Z",
     "start_time": "2017-10-14T18:28:17.510611Z"
    }
   },
   "outputs": [
    {
     "name": "stdout",
     "output_type": "stream",
     "text": [
      "Epoch 0. Loss: 1.154917, Train acc 0.575028, Test acc 0.775781\n",
      "Epoch 1. Loss: 0.581701, Train acc 0.781017, Test acc 0.827832\n",
      "Epoch 2. Loss: 0.497387, Train acc 0.813597, Test acc 0.835938\n",
      "Epoch 3. Loss: 0.452726, Train acc 0.831898, Test acc 0.855957\n",
      "Epoch 4. Loss: 0.427207, Train acc 0.841850, Test acc 0.851953\n",
      "Epoch 5. Loss: 0.403929, Train acc 0.849640, Test acc 0.855957\n",
      "Epoch 6. Loss: 0.388369, Train acc 0.854050, Test acc 0.866309\n",
      "Epoch 7. Loss: 0.374673, Train acc 0.860184, Test acc 0.864746\n",
      "Epoch 8. Loss: 0.366552, Train acc 0.863298, Test acc 0.856641\n",
      "Epoch 9. Loss: 0.354184, Train acc 0.868057, Test acc 0.867090\n"
     ]
    }
   ],
   "source": [
    "import sys\n",
    "sys.path.append('..')\n",
    "from mxnet import ndarray as nd\n",
    "from mxnet import autograd\n",
    "import utils\n",
    "\n",
    "\n",
    "batch_size = 256\n",
    "train_data, test_data = utils.load_data_fashion_mnist(batch_size)\n",
    "\n",
    "softmax_cross_entropy = gluon.loss.SoftmaxCrossEntropyLoss()\n",
    "trainer = gluon.Trainer(net.collect_params(), 'sgd', {'learning_rate': 0.5})\n",
    "\n",
    "for epoch in range(10):\n",
    "    train_loss = 0.\n",
    "    train_acc = 0.\n",
    "    for data, label in train_data:\n",
    "        with autograd.record():\n",
    "            output = net(data)\n",
    "            loss = softmax_cross_entropy(output, label)\n",
    "        loss.backward()\n",
    "        trainer.step(batch_size)\n",
    "\n",
    "        train_loss += nd.mean(loss).asscalar()\n",
    "        train_acc += utils.accuracy(output, label)\n",
    "\n",
    "    test_acc = utils.evaluate_accuracy(test_data, net)\n",
    "    print(\"Epoch %d. Loss: %f, Train acc %f, Test acc %f\" % (\n",
    "        epoch, train_loss/len(train_data), train_acc/len(train_data), test_acc))"
   ]
  },
  {
   "cell_type": "code",
   "execution_count": null,
   "metadata": {
    "collapsed": true
   },
   "outputs": [],
   "source": []
  }
 ],
 "metadata": {
  "kernelspec": {
   "display_name": "Python 3",
   "language": "python",
   "name": "python3"
  },
  "language_info": {
   "codemirror_mode": {
    "name": "ipython",
    "version": 3
   },
   "file_extension": ".py",
   "mimetype": "text/x-python",
   "name": "python",
   "nbconvert_exporter": "python",
   "pygments_lexer": "ipython3",
   "version": "3.6.2"
  }
 },
 "nbformat": 4,
 "nbformat_minor": 2
}
