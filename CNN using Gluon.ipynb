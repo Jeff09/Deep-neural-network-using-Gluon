{
 "cells": [
  {
   "cell_type": "code",
   "execution_count": 6,
   "metadata": {
    "ExecuteTime": {
     "end_time": "2017-10-15T04:37:25.547844Z",
     "start_time": "2017-10-15T04:37:25.531814Z"
    }
   },
   "outputs": [],
   "source": [
    "#不再需要实现去计算每层的输入大小，尤其是接在卷积后面的那个全连接层。\n",
    "from mxnet.gluon import nn\n",
    "\n",
    "net = nn.Sequential()\n",
    "drop_prob1 = 0.2\n",
    "drop_prob2 = 0.5\n",
    "with net.name_scope():\n",
    "    net.add(nn.Conv2D(channels=20, kernel_size=5, activation='relu'))\n",
    "    net.add(nn.MaxPool2D(pool_size=2, strides=2))\n",
    "    net.add(nn.Conv2D(channels=50, kernel_size=3, activation='relu'))\n",
    "    net.add(nn.MaxPool2D(pool_size=2, strides=2))\n",
    "    net.add(nn.Flatten())\n",
    "    net.add(nn.Dense(128, activation=\"relu\"))\n",
    "    net.add(nn.Dropout(drop_prob1))\n",
    "    net.add(nn.Dense(10))\n",
    "    "
   ]
  },
  {
   "cell_type": "code",
   "execution_count": 7,
   "metadata": {
    "ExecuteTime": {
     "end_time": "2017-10-15T04:40:26.623857Z",
     "start_time": "2017-10-15T04:37:26.882656Z"
    }
   },
   "outputs": [
    {
     "name": "stdout",
     "output_type": "stream",
     "text": [
      "initialize weight on gpu(0)\n",
      "Epoch 0. Loss: 1.081327, Train acc 0.593019, Test acc 0.750977\n",
      "Epoch 1. Loss: 0.506787, Train acc 0.806627, Test acc 0.835156\n",
      "Epoch 2. Loss: 0.430426, Train acc 0.839334, Test acc 0.825000\n",
      "Epoch 3. Loss: 0.385433, Train acc 0.856909, Test acc 0.864355\n",
      "Epoch 4. Loss: 0.358513, Train acc 0.867791, Test acc 0.876563\n",
      "Epoch 5. Loss: 0.337617, Train acc 0.875116, Test acc 0.812500\n",
      "Epoch 6. Loss: 0.321991, Train acc 0.880524, Test acc 0.885938\n",
      "Epoch 7. Loss: 0.309499, Train acc 0.885361, Test acc 0.886035\n",
      "Epoch 8. Loss: 0.294684, Train acc 0.889738, Test acc 0.864258\n",
      "Epoch 9. Loss: 0.292070, Train acc 0.890426, Test acc 0.890332\n",
      "Epoch 10. Loss: 0.279602, Train acc 0.894603, Test acc 0.879395\n",
      "Epoch 11. Loss: 0.272930, Train acc 0.898515, Test acc 0.876270\n",
      "Epoch 12. Loss: 0.263153, Train acc 0.901424, Test acc 0.885742\n",
      "Epoch 13. Loss: 0.259494, Train acc 0.902305, Test acc 0.888965\n",
      "Epoch 14. Loss: 0.254178, Train acc 0.904444, Test acc 0.879102\n",
      "Epoch 15. Loss: 0.246630, Train acc 0.906250, Test acc 0.886035\n",
      "Epoch 16. Loss: 0.240161, Train acc 0.909009, Test acc 0.895996\n",
      "Epoch 17. Loss: 0.234467, Train acc 0.912151, Test acc 0.907227\n",
      "Epoch 18. Loss: 0.230975, Train acc 0.913459, Test acc 0.900098\n",
      "Epoch 19. Loss: 0.222978, Train acc 0.916063, Test acc 0.900000\n"
     ]
    }
   ],
   "source": [
    "#训练\n",
    "from mxnet import gluon\n",
    "import sys\n",
    "sys.path.append('..')\n",
    "import utils\n",
    "\n",
    "# 初始化\n",
    "ctx = utils.try_gpu()\n",
    "net.initialize(ctx=ctx)\n",
    "print('initialize weight on', ctx)\n",
    "\n",
    "# 获取数据\n",
    "batch_size = 256\n",
    "train_data, test_data = utils.load_data_fashion_mnist(batch_size)\n",
    "\n",
    "# 训练\n",
    "loss = gluon.loss.SoftmaxCrossEntropyLoss()\n",
    "trainer = gluon.Trainer(net.collect_params(),\n",
    "                        'sgd', {'learning_rate': 0.5})\n",
    "utils.train(train_data, test_data, net, loss,\n",
    "            trainer, ctx, num_epochs=20)"
   ]
  },
  {
   "cell_type": "code",
   "execution_count": null,
   "metadata": {
    "collapsed": true
   },
   "outputs": [],
   "source": []
  }
 ],
 "metadata": {
  "kernelspec": {
   "display_name": "Python 3",
   "language": "python",
   "name": "python3"
  },
  "language_info": {
   "codemirror_mode": {
    "name": "ipython",
    "version": 3
   },
   "file_extension": ".py",
   "mimetype": "text/x-python",
   "name": "python",
   "nbconvert_exporter": "python",
   "pygments_lexer": "ipython3",
   "version": "3.6.2"
  }
 },
 "nbformat": 4,
 "nbformat_minor": 2
}
