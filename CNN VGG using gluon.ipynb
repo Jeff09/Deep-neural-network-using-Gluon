{
 "cells": [
  {
   "cell_type": "code",
   "execution_count": 10,
   "metadata": {
    "ExecuteTime": {
     "end_time": "2017-10-16T02:37:09.175502Z",
     "start_time": "2017-10-16T02:37:09.164974Z"
    },
    "collapsed": true
   },
   "outputs": [],
   "source": [
    "#VGG的一个关键是使用很多有着相对小的kernel（3×33×3）的卷积层然后接上一个池化层，之后再将这个模块重复多次。\n",
    "from mxnet.gluon import nn\n",
    "\n",
    "def vgg_block(num_convs, channels):\n",
    "    out = nn.Sequential()\n",
    "    for _ in range(num_convs):\n",
    "        #out.add(\n",
    "        #    nn.Conv2D(channels=channels, kernel_size=3,\n",
    "        #              padding=1, activation='relu')\n",
    "        #)\n",
    "        out.add(nn.Conv2D(channels=channels, kernel_size=3, padding=1))\n",
    "        out.add(nn.BatchNorm(axis=1))\n",
    "        out.add(nn.Activation(activation='relu'))\n",
    "    out.add(nn.MaxPool2D(pool_size=2, strides=2))\n",
    "    return out"
   ]
  },
  {
   "cell_type": "code",
   "execution_count": 11,
   "metadata": {
    "ExecuteTime": {
     "end_time": "2017-10-16T02:37:12.380467Z",
     "start_time": "2017-10-16T02:37:12.375955Z"
    },
    "collapsed": true
   },
   "outputs": [],
   "source": [
    "#将这些块堆起来\n",
    "def vgg_stack(architecture):\n",
    "    out = nn.Sequential()\n",
    "    for (num_convs, channels) in architecture:\n",
    "        out.add(vgg_block(num_convs, channels))\n",
    "    return out"
   ]
  },
  {
   "cell_type": "code",
   "execution_count": 12,
   "metadata": {
    "ExecuteTime": {
     "end_time": "2017-10-16T02:37:21.496992Z",
     "start_time": "2017-10-16T02:37:21.474934Z"
    }
   },
   "outputs": [],
   "source": [
    "#最简单的一个VGG结构，它有8个卷积层，和跟Alexnet一样的3个全连接层。这个网络又称VGG 11\n",
    "num_outputs = 10\n",
    "architecture_11 = ((1,64), (1,128), (2,256), (2,512), (2,512))\n",
    "architecture_16 = ((2,64), (2,128), (3, 256), (3, 512), (3, 512))\n",
    "architecture_19 = ((2,64), (2,128), (4, 256), (4, 512), (4, 512))\n",
    "net = nn.Sequential()\n",
    "with net.name_scope():\n",
    "    net.add(vgg_stack(architecture_11))\n",
    "    net.add(nn.Flatten())\n",
    "    net.add(nn.Dense(4096, activation=\"relu\"))\n",
    "    net.add(nn.Dropout(.5))\n",
    "    net.add(nn.Dense(4096, activation=\"relu\"))\n",
    "    net.add(nn.Dropout(.5))\n",
    "    net.add(nn.Dense(num_outputs))"
   ]
  },
  {
   "cell_type": "code",
   "execution_count": 13,
   "metadata": {
    "ExecuteTime": {
     "end_time": "2017-10-16T02:45:26.652317Z",
     "start_time": "2017-10-16T02:37:22.699223Z"
    }
   },
   "outputs": [
    {
     "name": "stdout",
     "output_type": "stream",
     "text": [
      "Epoch 0. Loss: 0.683937, Train acc 0.769956, Test acc 0.770402\n",
      "Epoch 1. Loss: 0.332803, Train acc 0.878665, Test acc 0.906350\n",
      "Epoch 2. Loss: 0.270128, Train acc 0.901769, Test acc 0.878682\n",
      "Epoch 3. Loss: 0.227210, Train acc 0.917511, Test acc 0.922771\n",
      "Epoch 4. Loss: 0.200031, Train acc 0.927739, Test acc 0.899980\n"
     ]
    }
   ],
   "source": [
    "#Alexnet的训练代码一样除了我们只将图片扩大到96×9696×96来节省些计算，和默认使用稍微大点的学习率\n",
    "import sys\n",
    "sys.path.append('..')\n",
    "import utils\n",
    "from mxnet import gluon\n",
    "from mxnet import init\n",
    "\n",
    "train_data, test_data = utils.load_data_fashion_mnist(\n",
    "    batch_size=64, resize=96)\n",
    "\n",
    "ctx = utils.try_gpu()\n",
    "net.initialize(ctx=ctx, init=init.Xavier())\n",
    "\n",
    "loss = gluon.loss.SoftmaxCrossEntropyLoss()\n",
    "trainer = gluon.Trainer(net.collect_params(),\n",
    "                        'sgd', {'learning_rate': 0.05})\n",
    "utils.train(train_data, test_data, net, loss,\n",
    "            trainer, ctx, num_epochs=5)"
   ]
  },
  {
   "cell_type": "code",
   "execution_count": null,
   "metadata": {
    "collapsed": true
   },
   "outputs": [],
   "source": []
  }
 ],
 "metadata": {
  "kernelspec": {
   "display_name": "Python 3",
   "language": "python",
   "name": "python3"
  },
  "language_info": {
   "codemirror_mode": {
    "name": "ipython",
    "version": 3
   },
   "file_extension": ".py",
   "mimetype": "text/x-python",
   "name": "python",
   "nbconvert_exporter": "python",
   "pygments_lexer": "ipython3",
   "version": "3.6.2"
  }
 },
 "nbformat": 4,
 "nbformat_minor": 2
}
